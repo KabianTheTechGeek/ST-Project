{
 "cells": [
  {
   "cell_type": "markdown",
   "id": "06958963",
   "metadata": {},
   "source": [
    "DATA COLLECTION"
   ]
  },
  {
   "cell_type": "code",
   "execution_count": 1,
   "id": "5ab5b8c1",
   "metadata": {},
   "outputs": [],
   "source": [
    "import requests\n",
    "import pandas as pd\n",
    "from bs4 import BeautifulSoup\n",
    "from datetime import datetime\n",
    "import logging"
   ]
  },
  {
   "cell_type": "code",
   "execution_count": 2,
   "id": "c9d2bb76",
   "metadata": {},
   "outputs": [],
   "source": [
    "headers = {\n",
    "    \"authority\": \"www.amazon.com\",\n",
    "    \"pragma\": \"no-cache\",\n",
    "    \"cache-control\": \"no-cache\",\n",
    "    \"dnt\": \"1\",\n",
    "    \"upgrade-insecure-requests\": \"1\",\n",
    "    \"user-agent\": \"Mozilla/5.0 (X11; CrOS x86_64 8172.45.0) AppleWebKit/537.36 (KHTML, like Gecko) Chrome/51.0.2704.64 Safari/537.36\",\n",
    "    \"accept\": \"text/html,application/xhtml+xml,application/xml;q=0.9,image/webp,image/apng,*/*;q=0.8,application/signed-exchange;v=b3;q=0.9\",\n",
    "    \"sec-fetch-site\": \"none\",\n",
    "    \"sec-fetch-mode\": \"navigate\",\n",
    "    \"sec-fetch-dest\": \"document\",\n",
    "    \"accept-language\": \"en-GB,en-US;q=0.9,en;q=0.8\",\n",
    "}"
   ]
  },
  {
   "cell_type": "code",
   "execution_count": 3,
   "id": "cc005269",
   "metadata": {},
   "outputs": [],
   "source": [
    "URLS = [\n",
    " \"https://www.amazon.com/Heat-Storm-HS-1500-PHX-WIFI-Infrared-Heater/product-reviews/B07JXRWJ8D/ref=cm_cr_dp_d_show_all_btm?ie=UTF8&reviewerType=all_reviews\",\n",
    " \"https://www.amazon.com/Heat-Storm-HS-1500-PHX-WIFI-Infrared-Heater/product-reviews/B07JXRWJ8D/ref=cm_cr_arp_d_paging_btm_next_2?ie=UTF8&reviewerType=all_reviews&pageNumber=2\",\n",
    " \"https://www.amazon.com/Heat-Storm-HS-1500-PHX-WIFI-Infrared-Heater/product-reviews/B07JXRWJ8D/ref=cm_cr_getr_d_paging_btm_next_3?ie=UTF8&reviewerType=all_reviews&pageNumber=3\"\n",
    "]"
   ]
  },
  {
   "cell_type": "code",
   "execution_count": 4,
   "id": "5d7ef802",
   "metadata": {},
   "outputs": [],
   "source": [
    "def get_page_html(page_url: str) -> str:\n",
    "    resp = requests.get(page_url, headers=headers)\n",
    "    return resp.text"
   ]
  },
  {
   "cell_type": "code",
   "execution_count": 5,
   "id": "3122cd5b",
   "metadata": {},
   "outputs": [],
   "source": [
    "def get_reviews_from_html(page_html: str) -> BeautifulSoup:\n",
    "    soup = BeautifulSoup(page_html, \"lxml\")\n",
    "    reviews = soup.find_all(\"div\", {\"class\": \"a-section celwidget\"})\n",
    "    return reviews"
   ]
  },
  {
   "cell_type": "code",
   "execution_count": 6,
   "id": "f8282f93",
   "metadata": {},
   "outputs": [],
   "source": [
    "def get_review_date(soup_object: BeautifulSoup):\n",
    "    date_string = soup_object.find(\"span\", {\"class\": \"review-date\"}).get_text()\n",
    "    return date_string"
   ]
  },
  {
   "cell_type": "code",
   "execution_count": 7,
   "id": "2976b75a",
   "metadata": {},
   "outputs": [],
   "source": [
    "def get_review_text(soup_object: BeautifulSoup) -> str:\n",
    "    review_text = soup_object.find(\n",
    "        \"span\", {\"class\": \"a-size-base review-text review-text-content\"}\n",
    "    ).get_text()\n",
    "    return review_text.strip()"
   ]
  },
  {
   "cell_type": "code",
   "execution_count": 8,
   "id": "5a0b0c0d",
   "metadata": {},
   "outputs": [],
   "source": [
    "def get_review_header(soup_object: BeautifulSoup) -> str:\n",
    "    review_header = soup_object.find(\n",
    "        \"a\",\n",
    "        {\n",
    "            \"class\": \"a-size-base a-link-normal review-title a-color-base review-title-content a-text-bold\"\n",
    "        },\n",
    "    ).get_text()\n",
    "    return review_header.strip()"
   ]
  },
  {
   "cell_type": "code",
   "execution_count": 9,
   "id": "5bd0156f",
   "metadata": {},
   "outputs": [],
   "source": [
    "def get_number_stars(soup_object: BeautifulSoup) -> str:\n",
    "    stars = soup_object.find(\"span\", {\"class\": \"a-icon-alt\"}).get_text()\n",
    "    return stars.strip()"
   ]
  },
  {
   "cell_type": "code",
   "execution_count": 10,
   "id": "6c35850f",
   "metadata": {},
   "outputs": [],
   "source": [
    "def get_product_name(soup_object: BeautifulSoup) -> str:\n",
    "    product = soup_object.find(\n",
    "        \"a\", {\"class\": \"a-size-mini a-link-normal a-color-secondary\"}\n",
    "    ).get_text()\n",
    "    return product.strip()"
   ]
  },
  {
   "cell_type": "code",
   "execution_count": 11,
   "id": "4194031c",
   "metadata": {},
   "outputs": [],
   "source": [
    "def orchestrate_data_gathering(single_review: BeautifulSoup) -> dict:\n",
    "    return {\n",
    "        \"review_text\": get_review_text(single_review),\n",
    "        \"review_date\": get_review_date(single_review),\n",
    "        \"review_title\": get_review_header(single_review),\n",
    "        \"review_stars\": get_number_stars(single_review),\n",
    "        \"review_flavor\": get_product_name(single_review),\n",
    "    }"
   ]
  },
  {
   "cell_type": "code",
   "execution_count": 12,
   "id": "60b243f4",
   "metadata": {},
   "outputs": [
    {
     "name": "stderr",
     "output_type": "stream",
     "text": [
      "INFO:root:https://www.amazon.com/Heat-Storm-HS-1500-PHX-WIFI-Infrared-Heater/product-reviews/B07JXRWJ8D/ref=cm_cr_dp_d_show_all_btm?ie=UTF8&reviewerType=all_reviews\n",
      "INFO:root:https://www.amazon.com/Heat-Storm-HS-1500-PHX-WIFI-Infrared-Heater/product-reviews/B07JXRWJ8D/ref=cm_cr_arp_d_paging_btm_next_2?ie=UTF8&reviewerType=all_reviews&pageNumber=2\n",
      "INFO:root:https://www.amazon.com/Heat-Storm-HS-1500-PHX-WIFI-Infrared-Heater/product-reviews/B07JXRWJ8D/ref=cm_cr_getr_d_paging_btm_next_3?ie=UTF8&reviewerType=all_reviews&pageNumber=3\n",
      "INFO:root:30 Is the shape of the dataframe\n",
      "INFO:root:saving to 2023-03-24-03.csv\n",
      "INFO:root:Done yayy\n"
     ]
    }
   ],
   "source": [
    "if __name__ == '__main__':\n",
    "    logging.basicConfig(level=logging.INFO)\n",
    "    all_results = []\n",
    "\n",
    "    for u in URLS:\n",
    "        logging.info(u)\n",
    "        html = get_page_html(u)\n",
    "        reviews = get_reviews_from_html(html)\n",
    "        for rev in reviews:\n",
    "            data = orchestrate_data_gathering(rev)\n",
    "            all_results.append(data)\n",
    "\n",
    "    out = pd.DataFrame.from_records(all_results)\n",
    "    logging.info(f\"{out.shape[0]} Is the shape of the dataframe\")\n",
    "    save_name = f\"{datetime.now().strftime('%Y-%m-%d-%m')}.csv\"\n",
    "    logging.info(f\"saving to {save_name}\")\n",
    "    out.to_csv(save_name)\n",
    "    logging.info('Done yayy')"
   ]
  },
  {
   "cell_type": "markdown",
   "id": "1644ae4c",
   "metadata": {},
   "source": [
    "DATA LABELLING AND PREPROCESSING"
   ]
  },
  {
   "cell_type": "code",
   "execution_count": 13,
   "id": "5e0cc6d2",
   "metadata": {},
   "outputs": [],
   "source": [
    "import pandas as pd\n",
    "import nltk\n",
    "from nltk.corpus import stopwords\n",
    "from nltk.stem import WordNetLemmatizer\n",
    "from sklearn.preprocessing import LabelEncoder\n",
    "from sklearn.feature_extraction.text import CountVectorizer"
   ]
  },
  {
   "cell_type": "code",
   "execution_count": 14,
   "id": "d3ee35d0",
   "metadata": {},
   "outputs": [],
   "source": [
    "data = pd.read_csv('2023-03-24-03.csv')"
   ]
  },
  {
   "cell_type": "code",
   "execution_count": 15,
   "id": "4f6e1091",
   "metadata": {},
   "outputs": [],
   "source": [
    "data['review_label'] = data['review_stars'].apply(lambda x: 1 if int(x[0]) >= 4 else 0)"
   ]
  },
  {
   "cell_type": "code",
   "execution_count": 16,
   "id": "c46ae0dc",
   "metadata": {},
   "outputs": [
    {
     "name": "stderr",
     "output_type": "stream",
     "text": [
      "[nltk_data] Downloading package stopwords to\n",
      "[nltk_data]     C:\\Users\\Admin\\AppData\\Roaming\\nltk_data...\n",
      "[nltk_data]   Package stopwords is already up-to-date!\n",
      "[nltk_data] Downloading package wordnet to\n",
      "[nltk_data]     C:\\Users\\Admin\\AppData\\Roaming\\nltk_data...\n",
      "[nltk_data]   Package wordnet is already up-to-date!\n"
     ]
    }
   ],
   "source": [
    "nltk.download('stopwords')\n",
    "nltk.download('wordnet')\n",
    "stop_words = set(stopwords.words('english'))\n",
    "lemmatizer = WordNetLemmatizer()"
   ]
  },
  {
   "cell_type": "code",
   "execution_count": 17,
   "id": "a4888a57",
   "metadata": {},
   "outputs": [],
   "source": [
    "def preprocess_text(text):\n",
    "    text = text.lower()\n",
    "    words = nltk.word_tokenize(text)\n",
    "    words = [w for w in words if not w in stop_words]\n",
    "    words = [lemmatizer.lemmatize(w) for w in words]\n",
    "    return ' '.join(words)"
   ]
  },
  {
   "cell_type": "code",
   "execution_count": 18,
   "id": "4ed31985",
   "metadata": {},
   "outputs": [],
   "source": [
    "data['review_text'] = data['review_text'].apply(preprocess_text)"
   ]
  },
  {
   "cell_type": "code",
   "execution_count": null,
   "id": "eba73b2e",
   "metadata": {},
   "outputs": [],
   "source": []
  }
 ],
 "metadata": {
  "kernelspec": {
   "display_name": "Python 3 (ipykernel)",
   "language": "python",
   "name": "python3"
  },
  "language_info": {
   "codemirror_mode": {
    "name": "ipython",
    "version": 3
   },
   "file_extension": ".py",
   "mimetype": "text/x-python",
   "name": "python",
   "nbconvert_exporter": "python",
   "pygments_lexer": "ipython3",
   "version": "3.9.13"
  }
 },
 "nbformat": 4,
 "nbformat_minor": 5
}
